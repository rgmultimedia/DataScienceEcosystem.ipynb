{
 "cells": [
  {
   "cell_type": "markdown",
   "id": "69b3ebe1-b554-40e4-bd0e-e811b59f14f9",
   "metadata": {
    "tags": []
   },
   "source": [
    "**ADDITIONAL INFORMATION/NOTE:\n",
    "\n",
    "In Jupyter Notebook, we can select among different heading styles (H1, H2, H3, H4, H5, and H6) by using Markdown syntax.\n",
    "To create an H1 heading:\n",
    "\n",
    "Example:\n",
    "# Heading 1, ## Heading 2, ### Heading 3, #### Heading 4, ##### Heading 5, ###### Heading 6"
   ]
  },
  {
   "cell_type": "markdown",
   "id": "83776d1c-712a-415e-b1d5-602be27b8c84",
   "metadata": {
    "tags": []
   },
   "source": [
    "Exercise 2: Create markdown cell with title of the notebook\n",
    "\n",
    "Create a markdown cell with the title Data Science Tools and Ecosystem using H1 style heading.\n",
    "Take a screenshot of the markdown cell and name it as 2-title.png (Images can be saved with either the .jpg or .png extension.)"
   ]
  },
  {
   "cell_type": "markdown",
   "id": "e2fb93cd-0322-48e8-8b0c-03e9ba7c4eb2",
   "metadata": {
    "tags": []
   },
   "source": [
    "# Data Science Tools and Ecosystem"
   ]
  },
  {
   "cell_type": "markdown",
   "id": "eb3c94bf-25a8-470a-846b-5a991e5ee7c2",
   "metadata": {},
   "source": [
    "Exercise 3 - Create a markdown cell for an introduction\n",
    "\n",
    "Write an introductory sentence about the notebook such as the follows:\n",
    "\n",
    "# Introduction\n",
    "\n",
    "In this notebook, Data Science Tools and Ecosystem are summarized."
   ]
  },
  {
   "cell_type": "markdown",
   "id": "2dc30d45-b598-4332-8d69-db4f3e4c4ffe",
   "metadata": {},
   "source": [
    "Exercise 10 - Insert a markdown cell to list Objectives\n",
    "\n",
    "Below the introduction cell created in Exercise 3, insert a new markdown cell to list the objectives that this notebook covered (i.e. some of the key takeaways from the course). In this new cell start with an introductory line titled: Objectives: in bold font. Then using an unordered list (bullets) indicate 3 to 5 items covered in this notebook, such as List popular languages for Data Science.\n",
    "\n",
    "\n",
    "**Objectives:**\n",
    "\n",
    "- List popular languages for Data Science.\n",
    "- Highlight commonly used libraries in Data Science.\n",
    "- Provide an overview of popular development environment tools for Data Science.\n",
    "- Introduce arithmetic expression examples in Python.\n",
    "- Demonstrate simple calculations for converting units."
   ]
  },
  {
   "cell_type": "markdown",
   "id": "56cf6e6f-53b2-4ae6-a141-35f3688e4c29",
   "metadata": {},
   "source": [
    "Exercise 4 - Create a markdown cell to list data science languages\n",
    "\n",
    "Start the cell with an overview line such as:\n",
    "\n",
    "Some of the popular languages that Data Scientists use are:\n",
    "Then create an ordered list (i.e. numbered) listing 3 (or more) commonly used languages for data science.\n",
    "\n",
    "# Data Science Languages\n",
    "\n",
    "#### Some of the popular languages that Data Scientists use are:\n",
    "\n",
    "1. Python\n",
    "2. R\n",
    "3. SQL\n",
    "4. Java\n",
    "5. Scala\n",
    "6. MATLAB\n",
    "7. Julia"
   ]
  },
  {
   "cell_type": "markdown",
   "id": "61aabe8b-ff3a-4855-90b8-643f2d2297ad",
   "metadata": {},
   "source": [
    "Exercise 5 - Create a markdown cell to list data science libraries\n",
    "\n",
    "Add an overview line to the cell like:\n",
    "\n",
    "Some of the commonly used libraries used by Data Scientists include:\n",
    "Below this line add an ordered list listing 3 (or more) commonly used libraries in data science.\n",
    "\n",
    "# Data Science Libraries\n",
    "\n",
    "#### Some of the commonly used libraries used by Data Scientists include:\n",
    "\n",
    "1. NumPy\n",
    "2. Pandas\n",
    "3. Matplotlib\n",
    "4. Seaborn\n",
    "5. Scikit-learn\n",
    "6. TensorFlow\n",
    "7. Keras\n",
    "8. PyTorch"
   ]
  },
  {
   "cell_type": "markdown",
   "id": "baa96f5a-e607-47ab-ade7-3dd986afaee6",
   "metadata": {},
   "source": [
    "Exercise 6 - Create a markdown cell with a table of Data Science tools\n",
    "\n",
    "Create a single column table in this cell with the first row containing the header Data Science Tools. The subsequent three rows in the table should indicate three development environment open source tools used in data science.\n",
    "\n",
    "\n",
    "| Data Science Tools |\n",
    "|---------------------|\n",
    "| Jupyter Notebook    |\n",
    "| RStudio             |\n",
    "| VS Code             |"
   ]
  },
  {
   "cell_type": "markdown",
   "id": "857f77e4-2d17-4db1-9c47-bf93a6782172",
   "metadata": {},
   "source": [
    "# FOR PERSONAL CONSUMPTION/OUTSIDE THE EXCERCISE\n",
    "\n",
    "| Tool               | Description                                      |\n",
    "|--------------------|--------------------------------------------------|\n",
    "| Jupyter Notebook  | Interactive computing environment                |\n",
    "| RStudio           | Integrated development environment for R         |\n",
    "| VS Code           | Lightweight code editor with rich features       |\n",
    "\n",
    "\n",
    "\n",
    "### Create a 3 column table in this cell with the first row containing the header: Data Science Tools, second row: Description and other information. The subsequent seven rows in the table should indicate seven development environment open source tools used in data science.\n",
    "\n",
    "| Data Science Tools | Description                                 | Other Information              |\n",
    "|--------------------|---------------------------------------------|--------------------------------|\n",
    "| Jupyter Notebook   | Interactive computing environment           | Supports various programming languages |\n",
    "| RStudio            | Integrated development environment for R    | Provides R-specific features |\n",
    "| VS Code            | Lightweight code editor with rich features | Supports extensions for data science |\n",
    "| PyCharm            | Python IDE with intelligent code completion | Offers integrated data science tools |\n",
    "| Spyder             | Scientific Python development environment  | Includes data exploration tools |\n",
    "| Atom               | Hackable text editor for the 21st century   | Supports data science plugins |\n",
    "| Sublime Text       | Sophisticated text editor for code, markup  | Offers customizable data science workflows |\n",
    "\n",
    "\n",
    "\n",
    "| Data Science Tools | Description                                     | Details                                           | Other Information |\n",
    "|--------------------|-------------------------------------------------|---------------------------------------------------|-------------------|\n",
    "| Jupyter Notebook   | Interactive computing environment               | Supports various programming languages             | Open source       |\n",
    "| RStudio            | Integrated development environment for R        | Provides R language support                       | Open source       |\n",
    "| VS Code            | Lightweight code editor with rich features      | Supports extensions for data science workflows   | Open source       |\n",
    "| Spyder             | IDE for scientific Python development           | Designed for data analysis and visualization      | Open source       |\n",
    "| PyCharm            | Python IDE with intelligent code assistance     | Includes data science tools and libraries         | Commercial        |\n",
    "| Atom               | Hackable text editor for the 21st century       | Customizable with various data science packages   | Open source       |\n",
    "| Sublime Text       | Sophisticated text editor for code, markup, and prose | Can be extended with data science plugins    | Commercial        |\n"
   ]
  },
  {
   "cell_type": "markdown",
   "id": "92ccb351-33e8-48ae-a125-cae34a3574bf",
   "metadata": {},
   "source": [
    "Exercise 7 - Create a markdown cell introducing arithmetic expression examples\n",
    "\n",
    "Add a line in this cell with H3 style heading with text like:\n",
    "\n",
    "Below are a few examples of evaluating arithmetic expressions in Python\n",
    "\n",
    "\n",
    "### Arithmetic Expression Examples\n",
    "\n",
    "Below are a few examples of evaluating arithmetic expressions in Python:"
   ]
  },
  {
   "cell_type": "code",
   "execution_count": 7,
   "id": "1212a982-11ea-482c-bd72-07c3800ee6b8",
   "metadata": {
    "tags": []
   },
   "outputs": [
    {
     "data": {
      "text/plain": [
       "17"
      ]
     },
     "execution_count": 7,
     "metadata": {},
     "output_type": "execute_result"
    }
   ],
   "source": [
    "'''Exercise 8 - Create a code cell to multiply and add numbers\n",
    "\n",
    "In this code cell evaluate the expression (3*4)+5.\n",
    "Insert a comment line before the expression to explain the operation e.g.  This a simple arithmetic expression to mutiply then add integers.\n",
    "Then execute the cell to ensure the expression returns the expected output of 17.'''\n",
    "\n",
    "# This is a simple arithmetic expression to multiply then add integers.\n",
    "A = (3 * 4) + 5\n",
    "A"
   ]
  },
  {
   "cell_type": "code",
   "execution_count": 11,
   "id": "d6430816-b8d7-4a49-9b59-bf061a9407cf",
   "metadata": {
    "tags": []
   },
   "outputs": [
    {
     "name": "stdout",
     "output_type": "stream",
     "text": [
      "3.3333333333333335\n"
     ]
    }
   ],
   "source": [
    "'''Exercise 9 - Create a code cell to convert minutes to hours\n",
    "\n",
    "In this code cell write an expression that converts 200 minutes into hours.\n",
    "Insert a comment line before the expression to explain the operation e.g.  This will convert 200 minutes to hours by diving by 60.\n",
    "Run the cell to evaluate the expression.'''\n",
    "\n",
    "\n",
    "# This will convert 200 minutes to hours by dividing by 60.\n",
    "\n",
    "#Let M =minutes and H = hours\n",
    "\n",
    "M = 200\n",
    "H = M / 60\n",
    "print(H)"
   ]
  },
  {
   "cell_type": "markdown",
   "id": "dface82e-e1cd-46c1-9e11-18ea116cf59c",
   "metadata": {
    "tags": []
   },
   "source": [
    "## Check below question 3 above for details\n",
    "\n",
    "Exercise 10 - Insert a markdown cell to list Objectives\n",
    "\n",
    "Below the introduction cell created in Exercise 3, insert a new markdown cell to list the objectives that this notebook covered (i.e. some of the key takeaways from the course). In this new cell start with an introductory line titled: Objectives: in bold font. Then using an unordered list (bullets) indicate 3 to 5 items covered in this notebook, such as List popular languages for Data Science.\n",
    "\n",
    "\n",
    "**Objectives:\n",
    "\n",
    "- List of popular languages for Data Science.\n",
    "- Highlight commonly used libraries in Data Science.\n",
    "- Provide an overview of popular development environment tools for Data Science.\n",
    "- Introduce arithmetic expression examples in Python.\n",
    "- Demonstrate simple calculations for converting units."
   ]
  },
  {
   "cell_type": "markdown",
   "id": "639a39ed-5722-4a51-830f-d81e109c4525",
   "metadata": {},
   "source": [
    "Exercise 11 - Create a markdown cell to indicate the Author's name\n",
    "\n",
    "In this markdown cell markdown cell include the following text Author in H2 style heading. Include your name as regular text below the word Author.\n",
    "\n",
    "\n",
    "## Author\n",
    "Solomon Okunlola O."
   ]
  },
  {
   "cell_type": "code",
   "execution_count": null,
   "id": "3f6c9796-7e5a-4a86-8089-f0aa40ddd0f9",
   "metadata": {},
   "outputs": [],
   "source": []
  }
 ],
 "metadata": {
  "kernelspec": {
   "display_name": "Python 3 (ipykernel)",
   "language": "python",
   "name": "python3"
  },
  "language_info": {
   "codemirror_mode": {
    "name": "ipython",
    "version": 3
   },
   "file_extension": ".py",
   "mimetype": "text/x-python",
   "name": "python",
   "nbconvert_exporter": "python",
   "pygments_lexer": "ipython3",
   "version": "3.11.5"
  }
 },
 "nbformat": 4,
 "nbformat_minor": 5
}
